{
 "cells": [
  {
   "cell_type": "code",
   "execution_count": 6,
   "id": "2d3e4d47-3cc6-4c00-8685-138ae9a41b0e",
   "metadata": {},
   "outputs": [],
   "source": [
    "import pandas as pd\n",
    "\n",
    "df = pd.read_csv('ratings_and_sentiments.csv', encoding='latin1')\n",
    "df = pd.read_csv('raw_yelp_review_data.csv', encoding='latin1')"
   ]
  },
  {
   "cell_type": "code",
   "execution_count": 14,
   "id": "b0bae9a4-e262-469f-867f-5e36e3517f6b",
   "metadata": {},
   "outputs": [
    {
     "name": "stdout",
     "output_type": "stream",
     "text": [
      "Columns in ratings_df: Index(['coffee_shop_name', 'full_review_text', 'star_rating'], dtype='object')\n",
      "Columns in reviews_df: Index(['coffee_shop_name', 'full_review_text', 'star_rating'], dtype='object')\n"
     ]
    }
   ],
   "source": [
    "print(\"Columns in ratings_df:\", df.columns)\n",
    "print(\"Columns in reviews_df:\", df.columns)\n"
   ]
  },
  {
   "cell_type": "code",
   "execution_count": 17,
   "id": "0861856e-c26f-4054-83cb-7c49d26f4489",
   "metadata": {},
   "outputs": [],
   "source": [
    "df.columns = df.columns.str.strip()\n",
    "df.columns = df.columns.str.strip()"
   ]
  },
  {
   "cell_type": "code",
   "execution_count": 22,
   "id": "6eb39f81-f34d-4c13-afc1-c3dad13f7ab8",
   "metadata": {},
   "outputs": [
    {
     "name": "stdout",
     "output_type": "stream",
     "text": [
      "Ratings Data Overview:\n",
      "<class 'pandas.core.frame.DataFrame'>\n",
      "RangeIndex: 7616 entries, 0 to 7615\n",
      "Data columns (total 3 columns):\n",
      " #   Column            Non-Null Count  Dtype \n",
      "---  ------            --------------  ----- \n",
      " 0   coffee_shop_name  7616 non-null   object\n",
      " 1   full_review_text  7616 non-null   object\n",
      " 2   star_rating       7616 non-null   object\n",
      "dtypes: object(3)\n",
      "memory usage: 178.6+ KB\n",
      "None\n",
      "                  coffee_shop_name  \\\n",
      "0  The Factory - Cafe With a Soul    \n",
      "1  The Factory - Cafe With a Soul    \n",
      "2  The Factory - Cafe With a Soul    \n",
      "3  The Factory - Cafe With a Soul    \n",
      "4  The Factory - Cafe With a Soul    \n",
      "\n",
      "                                    full_review_text        star_rating  \n",
      "0   11/25/2016 1 check-in Love love loved the atm...   5.0 star rating   \n",
      "1   12/2/2016 Listed in Date Night: Austin, Ambia...   4.0 star rating   \n",
      "2   11/30/2016 1 check-in Listed in Brunch Spots ...   4.0 star rating   \n",
      "3   11/25/2016 Very cool decor! Good drinks Nice ...   2.0 star rating   \n",
      "4   12/3/2016 1 check-in They are located within ...   4.0 star rating   \n"
     ]
    }
   ],
   "source": [
    "print(\"Ratings Data Overview:\")\n",
    "print(df.info())\n",
    "print(df.head())"
   ]
  },
  {
   "cell_type": "code",
   "execution_count": 24,
   "id": "b4b0e88f-54f5-4547-af92-7ba31197404d",
   "metadata": {},
   "outputs": [
    {
     "name": "stdout",
     "output_type": "stream",
     "text": [
      "\n",
      "Reviews Data Overview:\n",
      "<class 'pandas.core.frame.DataFrame'>\n",
      "RangeIndex: 7616 entries, 0 to 7615\n",
      "Data columns (total 3 columns):\n",
      " #   Column            Non-Null Count  Dtype \n",
      "---  ------            --------------  ----- \n",
      " 0   coffee_shop_name  7616 non-null   object\n",
      " 1   full_review_text  7616 non-null   object\n",
      " 2   star_rating       7616 non-null   object\n",
      "dtypes: object(3)\n",
      "memory usage: 178.6+ KB\n",
      "None\n",
      "                  coffee_shop_name  \\\n",
      "0  The Factory - Cafe With a Soul    \n",
      "1  The Factory - Cafe With a Soul    \n",
      "2  The Factory - Cafe With a Soul    \n",
      "3  The Factory - Cafe With a Soul    \n",
      "4  The Factory - Cafe With a Soul    \n",
      "\n",
      "                                    full_review_text        star_rating  \n",
      "0   11/25/2016 1 check-in Love love loved the atm...   5.0 star rating   \n",
      "1   12/2/2016 Listed in Date Night: Austin, Ambia...   4.0 star rating   \n",
      "2   11/30/2016 1 check-in Listed in Brunch Spots ...   4.0 star rating   \n",
      "3   11/25/2016 Very cool decor! Good drinks Nice ...   2.0 star rating   \n",
      "4   12/3/2016 1 check-in They are located within ...   4.0 star rating   \n"
     ]
    }
   ],
   "source": [
    "print(\"\\nReviews Data Overview:\")\n",
    "print(df.info())\n",
    "print(df.head())"
   ]
  },
  {
   "cell_type": "code",
   "execution_count": 25,
   "id": "8dd4f2e4-0d56-4b55-8513-cfbc1a21e40d",
   "metadata": {},
   "outputs": [
    {
     "name": "stdout",
     "output_type": "stream",
     "text": [
      "\n",
      "Missing Values in Ratings Data:\n",
      "coffee_shop_name    0\n",
      "full_review_text    0\n",
      "star_rating         0\n",
      "dtype: int64\n"
     ]
    }
   ],
   "source": [
    "print(\"\\nMissing Values in Ratings Data:\")\n",
    "print(df.isnull().sum())"
   ]
  },
  {
   "cell_type": "code",
   "execution_count": 26,
   "id": "ca9f6c60-4285-460b-9767-19d50f9df515",
   "metadata": {},
   "outputs": [
    {
     "name": "stdout",
     "output_type": "stream",
     "text": [
      "\n",
      "Missing Values in Reviews Data:\n",
      "coffee_shop_name    0\n",
      "full_review_text    0\n",
      "star_rating         0\n",
      "dtype: int64\n"
     ]
    }
   ],
   "source": [
    "print(\"\\nMissing Values in Reviews Data:\")\n",
    "print(df.isnull().sum())"
   ]
  },
  {
   "cell_type": "code",
   "execution_count": 29,
   "id": "c2692915-6653-4f79-9d21-282e20011ed2",
   "metadata": {},
   "outputs": [],
   "source": [
    "df = df.dropna(subset=['full_review_text', 'star_rating'])  \n",
    "df['star_rating'] = df['star_rating'].fillna('No Rating')  \n"
   ]
  },
  {
   "cell_type": "code",
   "execution_count": 31,
   "id": "c777eff6-f484-4084-9e95-a2d5ebe61f4b",
   "metadata": {},
   "outputs": [],
   "source": [
    "df = df.drop_duplicates()\n",
    "df = df.drop_duplicates()"
   ]
  },
  {
   "cell_type": "code",
   "execution_count": 35,
   "id": "286bcfa8-a840-499d-b86c-3131629f0d46",
   "metadata": {},
   "outputs": [
    {
     "name": "stdout",
     "output_type": "stream",
     "text": [
      "         star_rating  star_rating_clean\n",
      "0   5.0 star rating                 5.0\n",
      "1   4.0 star rating                 4.0\n",
      "2   4.0 star rating                 4.0\n",
      "3   2.0 star rating                 2.0\n",
      "4   4.0 star rating                 4.0\n"
     ]
    }
   ],
   "source": [
    "import pandas as pd\n",
    "\n",
    "\n",
    "def clean_rating(value):\n",
    "    \"\"\"Extract numeric value from star rating strings.\"\"\"\n",
    "    try:\n",
    "        return float(value.split()[0])  \n",
    "    except ValueError:\n",
    "        return None  \n",
    "\n",
    "\n",
    "if 'star_rating' in df.columns:\n",
    "    df['star_rating_clean'] = df['star_rating'].apply(clean_rating)\n",
    "\n",
    "    \n",
    "    df['star_rating_clean'] = df['star_rating_clean'].fillna(0.0)\n",
    "\n",
    "   \n",
    "    print(df[['star_rating', 'star_rating_clean']].head())\n",
    "else:\n",
    "    print(\"Error: 'star_rating' column not found.\")"
   ]
  },
  {
   "cell_type": "code",
   "execution_count": 38,
   "id": "a3d6c70b-b3b6-4411-965b-79ff44ff7172",
   "metadata": {},
   "outputs": [],
   "source": [
    "df['star_rating_clean'] = df['star_rating_clean'].astype(float)  \n"
   ]
  },
  {
   "cell_type": "code",
   "execution_count": 41,
   "id": "3fcd0709-167b-4e90-ad28-3fd275d3f3d4",
   "metadata": {},
   "outputs": [],
   "source": [
    "def clean_text(text):\n",
    "    \"\"\"Function to clean review text.\"\"\"\n",
    "    return ' '.join(text.lower().split())\n",
    "\n",
    "df['full_review_text'] = df['full_review_text'].apply(clean_text)\n",
    "df['full_review_text'] = df['full_review_text'].apply(clean_text)\n"
   ]
  },
  {
   "cell_type": "code",
   "execution_count": 42,
   "id": "c78ea666-e184-4de2-af82-d7ecfa7b7b4f",
   "metadata": {},
   "outputs": [
    {
     "name": "stdout",
     "output_type": "stream",
     "text": [
      "Data Cleaning Complete!\n"
     ]
    }
   ],
   "source": [
    "df.to_csv('cleaned_ratings.csv', index=False)\n",
    "df.to_csv('cleaned_reviews.csv', index=False)\n",
    "\n",
    "print(\"Data Cleaning Complete!\")"
   ]
  },
  {
   "cell_type": "code",
   "execution_count": null,
   "id": "d1f923b9-9563-4b13-9d22-73bbd2691726",
   "metadata": {},
   "outputs": [],
   "source": []
  }
 ],
 "metadata": {
  "kernelspec": {
   "display_name": "Python 3 (ipykernel)",
   "language": "python",
   "name": "python3"
  },
  "language_info": {
   "codemirror_mode": {
    "name": "ipython",
    "version": 3
   },
   "file_extension": ".py",
   "mimetype": "text/x-python",
   "name": "python",
   "nbconvert_exporter": "python",
   "pygments_lexer": "ipython3",
   "version": "3.12.4"
  }
 },
 "nbformat": 4,
 "nbformat_minor": 5
}
