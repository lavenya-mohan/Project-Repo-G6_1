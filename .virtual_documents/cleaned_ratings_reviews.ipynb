import pandas as pd

df = pd.read_csv('ratings_and_sentiments.csv', encoding='latin1')
df = pd.read_csv('raw_yelp_review_data.csv', encoding='latin1')


print("Columns in ratings_df:", df.columns)
print("Columns in reviews_df:", df.columns)



df.columns = df.columns.str.strip()
df.columns = df.columns.str.strip()


print("Ratings Data Overview:")
print(df.info())
print(df.head())


print("\nReviews Data Overview:")
print(df.info())
print(df.head())


print("\nMissing Values in Ratings Data:")
print(df.isnull().sum())


print("\nMissing Values in Reviews Data:")
print(df.isnull().sum())


df = df.dropna(subset=['full_review_text', 'star_rating'])  
df['star_rating'] = df['star_rating'].fillna('No Rating')  



df = df.drop_duplicates()
df = df.drop_duplicates()


import pandas as pd


def clean_rating(value):
    """Extract numeric value from star rating strings."""
    try:
        return float(value.split()[0])  
    except ValueError:
        return None  


if 'star_rating' in df.columns:
    df['star_rating_clean'] = df['star_rating'].apply(clean_rating)

    
    df['star_rating_clean'] = df['star_rating_clean'].fillna(0.0)

   
    print(df[['star_rating', 'star_rating_clean']].head())
else:
    print("Error: 'star_rating' column not found.")


df['star_rating_clean'] = df['star_rating_clean'].astype(float)  



def clean_text(text):
    """Function to clean review text."""
    return ' '.join(text.lower().split())

df['full_review_text'] = df['full_review_text'].apply(clean_text)
df['full_review_text'] = df['full_review_text'].apply(clean_text)



df.to_csv('cleaned_ratings.csv', index=False)
df.to_csv('cleaned_reviews.csv', index=False)

print("Data Cleaning Complete!")



