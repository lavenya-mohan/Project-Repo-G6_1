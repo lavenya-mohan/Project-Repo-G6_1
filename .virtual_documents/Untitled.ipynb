import pandas as pd
import re
from collections import Counter
import matplotlib.pyplot as plt


# Load the cleaned datasets
ratings_df = pd.read_csv("cleaned_ratings.csv")
reviews_df = pd.read_csv("cleaned_reviews.csv")


# Define the keywords to search for beverages and snacks
beverage_keywords = ['coffee', 'latte', 'tea', 'espresso', 'mocha', 'cappuccino']
snack_keywords = ['pastry', 'sandwich', 'cookie', 'cake', 'muffin', 'croissant']


# Helper function to search for keywords in review text
def find_keywords(text, keywords):
    found = [word for word in keywords if word in text.lower()]
    return found if found else None


# Extract relevant keywords from reviews
reviews_df['beverages'] = reviews_df['full_review_text'].apply(lambda x: find_keywords(x, beverage_keywords))
reviews_df['snacks'] = reviews_df['full_review_text'].apply(lambda x: find_keywords(x, snack_keywords))


# Explode the lists of beverages and snacks to create one row per product mention
beverages_df = reviews_df.explode('beverages').dropna(subset=['beverages'])
snacks_df = reviews_df.explode('snacks').dropna(subset=['snacks'])


# Calculate the frequency of each product
beverage_counts = beverages_df['beverages'].value_counts()
snack_counts = snacks_df['snacks'].value_counts()


# Calculate the average star rating per product
avg_beverage_ratings = beverages_df.groupby('beverages')['star_rating_clean'].mean()
avg_snack_ratings = snacks_df.groupby('snacks')['star_rating_clean'].mean()


# Display the results
print("Beverage Counts:\n", beverage_counts)
print("\nSnack Counts:\n", snack_counts)
print("\nAverage Beverage Ratings:\n", avg_beverage_ratings)
print("\nAverage Snack Ratings:\n", avg_snack_ratings)


# Plotting the frequency of mentions
def plot_counts(counts, title):
    counts.plot(kind='bar', figsize=(10, 6))
    plt.title(f"Frequency of {title}")
    plt.xlabel(f"{title}")
    plt.ylabel("Mentions")
    plt.show()


# Plotting the average star ratings
def plot_ratings(avg_ratings, title):
    avg_ratings.plot(kind='bar', figsize=(10, 6))
    plt.title(f"Average Star Ratings of {title}")
    plt.xlabel(f"{title}")
    plt.ylabel("Average Rating")
    plt.ylim(0, 5)
    plt.show()


import sys
!{sys.executable} -m pip install wordcloud


from wordcloud import WordCloud
import matplotlib.pyplot as plt

# Generate word clouds for beverages and snacks
def generate_wordcloud(data, title):
    wordcloud = WordCloud(width=800, height=400, background_color='white').generate_from_frequencies(data)
    plt.figure(figsize=(10, 5))
    plt.imshow(wordcloud, interpolation='bilinear')
    plt.axis('off')
    plt.title(title, fontsize=20)
    plt.show()

# Create word clouds from the value counts
generate_wordcloud(beverage_counts, "Beverage Popularity")
generate_wordcloud(snack_counts, "Snack Popularity")


import sys
!{sys.executable} -m pip install squarify


import squarify
import matplotlib.pyplot as plt

# Example data
data = {'Coffee': 9698, 'Latte': 1493, 'Tea': 1193, 'Espresso': 792, 
        'Mocha': 405, 'Cappuccino': 264}

# Create a treemap chart
def treemap_chart(data, title):
    fig, ax = plt.subplots(figsize=(12, 6))
    squarify.plot(sizes=data.values(), label=data.keys(), alpha=0.7, ax=ax)
    ax.set_title(f"{title} Treemap", fontsize=18)
    ax.axis('off')
    plt.show()

# Generate the treemap
treemap_chart(data, "Most Popular Beverage")



import squarify
import matplotlib.pyplot as plt

# Example snack data from your analysis (you can replace with your actual data)
snack_counts = {'Sandwich': 428, 'Cake': 293, 'Cookie': 207, 
                'Pastry': 157, 'Muffin': 122, 'Croissant': 119}

# Function to create a treemap for snacks
def treemap_chart(data, title):
    fig, ax = plt.subplots(figsize=(12, 6))
    squarify.plot(sizes=data.values(), label=data.keys(), alpha=0.7, ax=ax)
    ax.set_title(f"{title} Treemap", fontsize=18)
    ax.axis('off')
    plt.show()

# Generate the treemap for snack mentions
treemap_chart(snack_counts, "Most Popular Snack")



