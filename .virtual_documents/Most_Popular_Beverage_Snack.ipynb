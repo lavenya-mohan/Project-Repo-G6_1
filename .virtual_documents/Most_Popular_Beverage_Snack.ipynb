import pandas as pd
import re
from collections import Counter
import matplotlib.pyplot as plt
import os
print(os.getcwd())


# Load the dataset
file_path = os.path.join("..", "Resources", "cleaned_ratings.csv")
file_path = os.path.join("..", "Resources", "cleaned_reviews.csv")


#Display initial rows to understand the data structure
print("Initial Data Preview:")
display(reviews_df.head())


# Define the keywords to search for beverages and snacks
beverage_keywords = ['coffee', 'latte', 'tea', 'espresso', 'mocha', 'cappuccino']
snack_keywords = ['pastry', 'sandwich', 'cookie', 'cake', 'muffin', 'croissant']


# Helper function to search for keywords in review text
def find_keywords(text, keywords):
    found = [word for word in keywords if word in text.lower()]
    return found if found else None


# Extract relevant keywords from reviews
reviews_df['beverages'] = reviews_df['full_review_text'].apply(lambda x: find_keywords(x, beverage_keywords))
reviews_df['snacks'] = reviews_df['full_review_text'].apply(lambda x: find_keywords(x, snack_keywords))


# Explode the lists of beverages and snacks to create one row per product mention
beverages_df = reviews_df.explode('beverages').dropna(subset=['beverages'])
snacks_df = reviews_df.explode('snacks').dropna(subset=['snacks'])


# Calculate the frequency of each product
beverage_counts = beverages_df['beverages'].value_counts()
snack_counts = snacks_df['snacks'].value_counts()


# Calculate the average star rating per product
avg_beverage_ratings = beverages_df.groupby('beverages')['star_rating_clean'].mean()
avg_snack_ratings = snacks_df.groupby('snacks')['star_rating_clean'].mean()


# Display the results
print("Beverage Counts:\n", beverage_counts)
print("\nSnack Counts:\n", snack_counts)
print("\nAverage Beverage Ratings:\n", avg_beverage_ratings)
print("\nAverage Snack Ratings:\n", avg_snack_ratings)


# Plotting the frequency of mentions
def plot_counts(counts, title):
    counts.plot(kind='bar', figsize=(10, 6))
    plt.title(f"Frequency of {title}")
    plt.xlabel(f"{title}")
    plt.ylabel("Mentions")
    plt.show()


# Plotting the average star ratings
def plot_ratings(avg_ratings, title):
    avg_ratings.plot(kind='bar', figsize=(10, 6))
    plt.title(f"Average Star Ratings of {title}")
    plt.xlabel(f"{title}")
    plt.ylabel("Average Rating")
    plt.ylim(0, 5)
    plt.show()


import sys
!{sys.executable} -m pip install wordcloud


from wordcloud import WordCloud
import matplotlib.pyplot as plt

# Generate word clouds for beverages and snacks
def generate_wordcloud(data, title):
    wordcloud = WordCloud(width=800, height=400, background_color='white').generate_from_frequencies(data)
    plt.figure(figsize=(10, 5))
    plt.imshow(wordcloud, interpolation='bilinear')
    plt.axis('off')
    plt.title(title, fontsize=20)
    plt.show()

# Create word clouds from the value counts
generate_wordcloud(beverage_counts, "Beverage Popularity")
generate_wordcloud(snack_counts, "Snack Popularity")


import sys
!{sys.executable} -m pip install squarify


import squarify
import matplotlib.pyplot as plt

# Example data
data = {'Coffee': 9698, 'Latte': 1493, 'Tea': 1193, 'Espresso': 792, 
        'Mocha': 405, 'Cappuccino': 264}

# Create a treemap chart
def treemap_chart(data, title):
    fig, ax = plt.subplots(figsize=(12, 6))
    squarify.plot(sizes=data.values(), label=data.keys(), alpha=0.7, ax=ax)
    ax.set_title(f"{title} Treemap", fontsize=18)
    ax.axis('off')
    plt.show()

# Generate the treemap
treemap_chart(data, "Most Popular Beverage")



import squarify
import matplotlib.pyplot as plt

# Example snack data from your analysis (you can replace with your actual data)
snack_counts = {'Sandwich': 428, 'Cake': 293, 'Cookie': 207, 
                'Pastry': 157, 'Muffin': 122, 'Croissant': 119}

# Function to create a treemap for snacks
def treemap_chart(data, title):
    fig, ax = plt.subplots(figsize=(12, 6))
    squarify.plot(sizes=data.values(), label=data.keys(), alpha=0.7, ax=ax)
    ax.set_title(f"{title} Treemap", fontsize=18)
    ax.axis('off')
    plt.show()

# Generate the treemap for snack mentions
treemap_chart(snack_counts, "Most Popular Snack")


import matplotlib.pyplot as plt
import numpy as np

# Example Data: Replace with your actual data
products = ['Coffee', 'Latte', 'Tea', 'Espresso', 'Sandwich', 'Cake', 'Cookie', 'Croissant']
mentions = [9698, 1493, 1193, 792, 428, 293, 207, 119]
avg_ratings = [4.8, 4.5, 4.1, 4.2, 4.0, 4.6, 4.2, 4.7]

fig = plt.figure(figsize=(12, 8))
ax = fig.add_subplot(111, projection='3d')

# X-axis positions (products)
x_pos = np.arange(len(products))

# Create 3D bars
ax.bar(x_pos, mentions, zs=0, zdir='y', alpha=0.8, color='skyblue', label='Mentions')
ax.bar(x_pos, avg_ratings, zs=1, zdir='y', alpha=0.8, color='coral', label='Avg Ratings')

# Set axis labels and title
ax.set_xlabel('Products')
ax.set_ylabel('Metric')
ax.set_zlabel('Value')
ax.set_title('3D Visualization of Beverage and Snack Popularity')
ax.set_xticks(x_pos)
ax.set_xticklabels(products)
ax.legend()

plt.show()


import plotly.express as px
import pandas as pd

# Example Data: Replace with your actual data
data = {
    'Product': ['Coffee', 'Latte', 'Tea', 'Espresso', 'Sandwich', 'Cake', 'Cookie', 'Croissant'],
    'Category': ['Beverage', 'Beverage', 'Beverage', 'Beverage', 'Snack', 'Snack', 'Snack', 'Snack'],
    'Mentions': [9698, 1493, 1193, 792, 428, 293, 207, 119],
    'Average_Rating': [4.8, 4.5, 4.1, 4.2, 4.0, 4.6, 4.2, 4.7]
}

df = pd.DataFrame(data)

# Create a 3D scatter plot
fig = px.scatter_3d(df, x='Mentions', y='Average_Rating', z='Category', 
                    text='Product', color='Category', 
                    size='Mentions', title='Beverage and Snack Popularity')

# Show the plot
fig.show()


import plotly.graph_objects as go

# Example Data: Replace with your actual data
products = ['Coffee', 'Latte', 'Tea', 'Espresso', 'Sandwich', 'Cake', 'Cookie', 'Croissant']
mentions = [9698, 1493, 1193, 792, 428, 293, 207, 119]
avg_ratings = [4.8, 4.5, 4.1, 4.2, 4.0, 4.6, 4.2, 4.7]
categories = ['Beverage'] * 4 + ['Snack'] * 4

# Create a 3D bubble chart
fig = go.Figure(data=[go.Scatter3d(
    x=categories,
    y=mentions,
    z=avg_ratings,
    mode='markers',
    marker=dict(
        size=[m / 50 for m in mentions],  # Scale bubble size
        color=['blue'] * 4 + ['green'] * 4,  # Color by category
        opacity=0.8,
    ),
    text=products  # Hover text
)])

fig.update_layout(
    title='3D Bubble Chart: Beverages and Snacks',
    scene=dict(
        xaxis_title='Category',
        yaxis_title='Mentions',
        zaxis_title='Average Rating',
    )
)

fig.show()


import plotly.express as px

# Example Data: Replace with your actual data
data = {
    'Category': ['Beverage', 'Beverage', 'Beverage', 'Beverage', 'Snack', 'Snack', 'Snack', 'Snack'],
    'Product': ['Coffee', 'Latte', 'Tea', 'Espresso', 'Sandwich', 'Cake', 'Cookie', 'Croissant'],
    'Mentions': [9698, 1493, 1193, 792, 428, 293, 207, 119]
}

df = pd.DataFrame(data)

# Create a sunburst chart
fig = px.sunburst(df, path=['Category', 'Product'], values='Mentions', 
                  title='Sunburst Chart of Beverage and Snack Mentions')

fig.show()


import seaborn as sns
import matplotlib.pyplot as plt

# Example Data: Replace with your actual data
products = ['Coffee', 'Latte', 'Tea', 'Espresso', 'Sandwich', 'Cake', 'Cookie', 'Croissant']
mentions = [9698, 1493, 1193, 792, 428, 293, 207, 119]
avg_ratings = [4.8, 4.5, 4.1, 4.2, 4.0, 4.6, 4.2, 4.7]

# Create a DataFrame for the heatmap
heatmap_data = pd.DataFrame({'Mentions': mentions, 'Avg Rating': avg_ratings}, index=products)

# Plot the heatmap
plt.figure(figsize=(10, 6))
sns.heatmap(heatmap_data, annot=True, cmap='YlGnBu', fmt='.2f')
plt.title('Heatmap of Product Mentions and Ratings')
plt.show()


import plotly.express as px

# Example Data: Replace with your actual data
data = {
    'Product': ['Coffee', 'Latte', 'Tea', 'Espresso', 'Sandwich', 'Cake', 'Cookie', 'Croissant'],
    'Category': ['Beverage'] * 4 + ['Snack'] * 4,
    'Mentions': [9698, 1493, 1193, 792, 428, 293, 207, 119],
    'Avg Rating': [4.8, 4.5, 4.1, 4.2, 4.0, 4.6, 4.2, 4.7]
}

df = pd.DataFrame(data)

# Create a parallel coordinates plot
fig = px.parallel_coordinates(df, dimensions=['Mentions', 'Avg Rating'], color='Mentions',
                              labels={'Mentions': 'Mentions', 'Avg Rating': 'Average Rating'},
                              title='Parallel Coordinates Plot: Product Mentions and Ratings')

fig.show()



